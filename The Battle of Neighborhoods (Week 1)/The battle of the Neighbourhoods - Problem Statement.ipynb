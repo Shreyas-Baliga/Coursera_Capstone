{
 "cells": [
  {
   "cell_type": "markdown",
   "metadata": {},
   "source": [
    "# THE BATTLE OF NEIGHBOURHOODS"
   ]
  },
  {
   "cell_type": "markdown",
   "metadata": {},
   "source": [
    "## INTRODUCTION:"
   ]
  },
  {
   "cell_type": "markdown",
   "metadata": {},
   "source": [
    "The goal of the project is to create an analysis of the neighbourhoods in Toronto which will aid people to explore facilities in and around their neighbourhood.\n",
    "\n",
    "This analysis also helps people who are moving into Toronto make an efficient decision on choosing the right neighbourhood to live in based on their personal requirement and needs.\n",
    "\n",
    "A comparative analysis will be conducted between different neighbourhoods so as to choose the best neighbourhood for the end user."
   ]
  },
  {
   "cell_type": "markdown",
   "metadata": {},
   "source": [
    "## PROBLEM STATEMENT:"
   ]
  },
  {
   "cell_type": "markdown",
   "metadata": {},
   "source": [
    "Deciding on a neighbourhood while moving into a new city can be a challenge. Hence, an analytical approach to this problem will be of great help in making a decision of which neighbourhood to move into based on certain parameter or factors which may vary person to person.This project also aims to link like minded individuals in a given society. "
   ]
  },
  {
   "cell_type": "markdown",
   "metadata": {},
   "source": [
    "## LOCATION:\n"
   ]
  },
  {
   "cell_type": "markdown",
   "metadata": {},
   "source": [
    "### TORONTO\n",
    "Toronto is the capital city of the Canadian province of Ontario.With a recorded population of 2,731,571 in 2016,it is the most populous city in Canada. Therefore, it attracts a lot of people from diverse and multilingual backgrounds.Which makes it neccessary for some insight to be given to these immigrants so as to help them choose the right place to live based on their personal preferences."
   ]
  },
  {
   "cell_type": "markdown",
   "metadata": {},
   "source": [
    "## Foursqure API:\n",
    "This project would use Four-square API as its prime data gathering source as it has a database of millions of places, especially their places API which provides the ability to perform location search, location sharing and details about a business.Using credentials of Foursquare API features of near-by places of the neighborhoods would be mined. Due to http request limitations the number of places per neighborhood parameter would reasonably be set to 100 and the radius parameter would be set to 500.\n",
    "\n"
   ]
  },
  {
   "cell_type": "markdown",
   "metadata": {},
   "source": [
    "## USING K-MEANS FOR CLUSTERING:\n",
    "To compare the similarities of two cities, we decided to explore neighborhoods, segment them, and group them into clusters to find similar neighborhoods in a big city like New York and Toronto. To be able to do that, we need to cluster data which is a form of unsupervised machine learning: k-means clustering algorithm"
   ]
  },
  {
   "cell_type": "markdown",
   "metadata": {},
   "source": [
    "## LIBRARIES USED:\n",
    "\n",
    "- Pandas: To create dataframes\n",
    "- Scikit-learn: Used to import machine learning algorithms\n",
    "- Folium: Python visualization library would be used to visualize the neighborhoods cluster distribution of using interactive leaflet map.\n",
    "- Geocoder/geopy: To retrieve location data\n",
    "- JSON: Handle JSON data\n",
    "- Requests: To handle http requests\n",
    "- Matplotlib: Used for plotting"
   ]
  },
  {
   "cell_type": "code",
   "execution_count": null,
   "metadata": {},
   "outputs": [],
   "source": []
  }
 ],
 "metadata": {
  "kernelspec": {
   "display_name": "Python 3",
   "language": "python",
   "name": "python3"
  },
  "language_info": {
   "codemirror_mode": {
    "name": "ipython",
    "version": 3
   },
   "file_extension": ".py",
   "mimetype": "text/x-python",
   "name": "python",
   "nbconvert_exporter": "python",
   "pygments_lexer": "ipython3",
   "version": "3.7.6"
  }
 },
 "nbformat": 4,
 "nbformat_minor": 4
}
